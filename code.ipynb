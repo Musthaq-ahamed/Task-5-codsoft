{
  "nbformat": 4,
  "nbformat_minor": 0,
  "metadata": {
    "colab": {
      "provenance": []
    },
    "kernelspec": {
      "name": "python3",
      "display_name": "Python 3"
    },
    "language_info": {
      "name": "python"
    }
  },
  "cells": [
    {
      "cell_type": "code",
      "execution_count": 31,
      "metadata": {
        "id": "TTlQpUHf_Q9c"
      },
      "outputs": [],
      "source": [
        "import pandas as pd\n",
        "import numpy as np\n",
        "from sklearn.model_selection import train_test_split\n",
        "from sklearn.preprocessing import StandardScaler\n",
        "from sklearn.linear_model import LogisticRegression\n",
        "from sklearn.ensemble import RandomForestClassifier\n",
        "from sklearn.metrics import classification_report, confusion_matrix, precision_score, recall_score, f1_score\n",
        "from imblearn.over_sampling import SMOTE"
      ]
    },
    {
      "cell_type": "code",
      "source": [
        "data = pd.read_csv('/content/creditcard.csv')"
      ],
      "metadata": {
        "id": "Lg4hiWQqBZaD"
      },
      "execution_count": 32,
      "outputs": []
    },
    {
      "cell_type": "code",
      "source": [
        "scaler = StandardScaler()\n",
        "data['Amount'] = scaler.fit_transform(data['Amount'].values.reshape(-1, 1))"
      ],
      "metadata": {
        "id": "Kp_uBEVQBt4c"
      },
      "execution_count": 33,
      "outputs": []
    },
    {
      "cell_type": "code",
      "source": [
        "data = data.drop(columns=['Time'])"
      ],
      "metadata": {
        "id": "zfXeQ4n7Bx0n"
      },
      "execution_count": 34,
      "outputs": []
    },
    {
      "cell_type": "code",
      "source": [
        "X = data.drop(columns=['Class'])\n",
        "y = data['Class']"
      ],
      "metadata": {
        "id": "t5MEpXZNB08i"
      },
      "execution_count": 35,
      "outputs": []
    },
    {
      "cell_type": "code",
      "source": [
        "y = y.dropna()\n",
        "X = X.loc[y.index]"
      ],
      "metadata": {
        "id": "Cn1jLNQFIPi6"
      },
      "execution_count": 36,
      "outputs": []
    },
    {
      "cell_type": "code",
      "source": [
        "sm = SMOTE(random_state=42)\n",
        "X_res, y_res = sm.fit_resample(X, y)"
      ],
      "metadata": {
        "id": "Kit1hFhRB3wz"
      },
      "execution_count": 37,
      "outputs": []
    },
    {
      "cell_type": "code",
      "source": [
        "X_train, X_test, y_train, y_test = train_test_split(X_res, y_res, test_size=0.2, random_state=42)"
      ],
      "metadata": {
        "id": "PuopcW1zB6qt"
      },
      "execution_count": 38,
      "outputs": []
    },
    {
      "cell_type": "code",
      "source": [
        "lr = LogisticRegression()\n",
        "lr.fit(X_train, y_train)\n",
        "y_pred_lr = lr.predict(X_test)"
      ],
      "metadata": {
        "colab": {
          "base_uri": "https://localhost:8080/"
        },
        "id": "lRPZQJwOB9xj",
        "outputId": "ccb954df-d0fe-426c-c81a-052e44e8d119"
      },
      "execution_count": 39,
      "outputs": [
        {
          "output_type": "stream",
          "name": "stderr",
          "text": [
            "/usr/local/lib/python3.10/dist-packages/sklearn/linear_model/_logistic.py:460: ConvergenceWarning: lbfgs failed to converge (status=1):\n",
            "STOP: TOTAL NO. of ITERATIONS REACHED LIMIT.\n",
            "\n",
            "Increase the number of iterations (max_iter) or scale the data as shown in:\n",
            "    https://scikit-learn.org/stable/modules/preprocessing.html\n",
            "Please also refer to the documentation for alternative solver options:\n",
            "    https://scikit-learn.org/stable/modules/linear_model.html#logistic-regression\n",
            "  n_iter_i = _check_optimize_result(\n"
          ]
        }
      ]
    },
    {
      "cell_type": "code",
      "source": [
        "rf = RandomForestClassifier(n_estimators=100, random_state=42)\n",
        "rf.fit(X_train, y_train)\n",
        "y_pred_rf = rf.predict(X_test)"
      ],
      "metadata": {
        "id": "0x7VWGk4CAP2"
      },
      "execution_count": 40,
      "outputs": []
    },
    {
      "cell_type": "code",
      "source": [
        "print(\"Logistic Regression:\")\n",
        "print(\"Precision:\", precision_score(y_test, y_pred_lr))\n",
        "print(\"Recall:\", recall_score(y_test, y_pred_lr))\n",
        "print(\"F1 Score:\", f1_score(y_test, y_pred_lr))\n",
        "print(classification_report(y_test, y_pred_lr))"
      ],
      "metadata": {
        "colab": {
          "base_uri": "https://localhost:8080/"
        },
        "id": "RGNIyzOGCCIv",
        "outputId": "c08013ea-5d37-438a-e5cb-1dd664b7775d"
      },
      "execution_count": 41,
      "outputs": [
        {
          "output_type": "stream",
          "name": "stdout",
          "text": [
            "Logistic Regression:\n",
            "Precision: 0.9870933333333334\n",
            "Recall: 0.9750289748182489\n",
            "F1 Score: 0.9810240644545744\n",
            "              precision    recall  f1-score   support\n",
            "\n",
            "         0.0       0.98      0.99      0.98      9502\n",
            "         1.0       0.99      0.98      0.98      9491\n",
            "\n",
            "    accuracy                           0.98     18993\n",
            "   macro avg       0.98      0.98      0.98     18993\n",
            "weighted avg       0.98      0.98      0.98     18993\n",
            "\n"
          ]
        }
      ]
    },
    {
      "cell_type": "code",
      "source": [
        "\n",
        "print(\"Random Forest:\")\n",
        "print(\"Precision:\", precision_score(y_test, y_pred_rf))\n",
        "print(\"Recall:\", recall_score(y_test, y_pred_rf))\n",
        "print(\"F1 Score:\", f1_score(y_test, y_pred_rf))\n",
        "print(classification_report(y_test, y_pred_rf))"
      ],
      "metadata": {
        "colab": {
          "base_uri": "https://localhost:8080/"
        },
        "id": "sbbkaEhTCFAB",
        "outputId": "5a376fff-5f0e-4321-d526-ebff3952e38e"
      },
      "execution_count": 42,
      "outputs": [
        {
          "output_type": "stream",
          "name": "stdout",
          "text": [
            "Random Forest:\n",
            "Precision: 0.9997893184451702\n",
            "Recall: 1.0\n",
            "F1 Score: 0.9998946481247367\n",
            "              precision    recall  f1-score   support\n",
            "\n",
            "         0.0       1.00      1.00      1.00      9502\n",
            "         1.0       1.00      1.00      1.00      9491\n",
            "\n",
            "    accuracy                           1.00     18993\n",
            "   macro avg       1.00      1.00      1.00     18993\n",
            "weighted avg       1.00      1.00      1.00     18993\n",
            "\n"
          ]
        }
      ]
    }
  ]
}
